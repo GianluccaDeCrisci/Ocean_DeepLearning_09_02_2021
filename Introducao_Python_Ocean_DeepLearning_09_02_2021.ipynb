{
  "nbformat": 4,
  "nbformat_minor": 0,
  "metadata": {
    "colab": {
      "name": "Introducao_Python_Ocean_DeepLearning_09_02_2021.ipynb",
      "provenance": [],
      "authorship_tag": "ABX9TyMx5iX7U978U2vN+EU6rSjP",
      "include_colab_link": true
    },
    "kernelspec": {
      "name": "python3",
      "display_name": "Python 3"
    }
  },
  "cells": [
    {
      "cell_type": "markdown",
      "metadata": {
        "id": "view-in-github",
        "colab_type": "text"
      },
      "source": [
        "<a href=\"https://colab.research.google.com/github/paulosalvatore/Ocean_DeepLearning_09_02_2021/blob/main/Introducao_Python_Ocean_DeepLearning_09_02_2021.ipynb\" target=\"_parent\"><img src=\"https://colab.research.google.com/assets/colab-badge.svg\" alt=\"Open In Colab\"/></a>"
      ]
    },
    {
      "cell_type": "code",
      "metadata": {
        "colab": {
          "base_uri": "https://localhost:8080/"
        },
        "id": "fUl_UfDO0l-L",
        "outputId": "f33931a4-547c-40a2-a553-02a2e6473776"
      },
      "source": [
        "print(\"Olá, Paulo Salvatore!\")"
      ],
      "execution_count": 1,
      "outputs": [
        {
          "output_type": "stream",
          "text": [
            "Olá, Paulo Salvatore!\n"
          ],
          "name": "stdout"
        }
      ]
    },
    {
      "cell_type": "code",
      "metadata": {
        "colab": {
          "base_uri": "https://localhost:8080/"
        },
        "id": "7Og2DZl33Tf4",
        "outputId": "fab72ace-3b4f-48b8-a6b6-c38a4b159bf4"
      },
      "source": [
        "nome = \"Paulo\"\r\n",
        "print(nome)"
      ],
      "execution_count": 2,
      "outputs": [
        {
          "output_type": "stream",
          "text": [
            "Paulo\n"
          ],
          "name": "stdout"
        }
      ]
    },
    {
      "cell_type": "code",
      "metadata": {
        "colab": {
          "base_uri": "https://localhost:8080/"
        },
        "id": "F3J-dgvA3az5",
        "outputId": "c2e1ad13-353a-4de1-cf53-9246874f0964"
      },
      "source": [
        "sobrenome = \"Salvatore\"\r\n",
        "\r\n",
        "nome_completo = nome + \" \" + sobrenome\r\n",
        "\r\n",
        "print(nome_completo)"
      ],
      "execution_count": 3,
      "outputs": [
        {
          "output_type": "stream",
          "text": [
            "Paulo Salvatore\n"
          ],
          "name": "stdout"
        }
      ]
    },
    {
      "cell_type": "code",
      "metadata": {
        "id": "WEQ8C5A_3lfU"
      },
      "source": [
        "idade = 27"
      ],
      "execution_count": 4,
      "outputs": []
    },
    {
      "cell_type": "code",
      "metadata": {
        "colab": {
          "base_uri": "https://localhost:8080/"
        },
        "id": "kIGBy4_R3mn8",
        "outputId": "35de2bdc-2c74-43c8-f8e7-4a3345354a3e"
      },
      "source": [
        "print(idade)"
      ],
      "execution_count": 5,
      "outputs": [
        {
          "output_type": "stream",
          "text": [
            "27\n"
          ],
          "name": "stdout"
        }
      ]
    },
    {
      "cell_type": "code",
      "metadata": {
        "id": "bqh6xaw933h9"
      },
      "source": [
        "numero = 5"
      ],
      "execution_count": 6,
      "outputs": []
    },
    {
      "cell_type": "code",
      "metadata": {
        "colab": {
          "base_uri": "https://localhost:8080/"
        },
        "id": "2Wfcshil35uN",
        "outputId": "64a2ef26-203f-4872-8b4d-8ae15cc1bccc"
      },
      "source": [
        "numero = numero + 1\r\n",
        "\r\n",
        "print(numero)"
      ],
      "execution_count": 7,
      "outputs": [
        {
          "output_type": "stream",
          "text": [
            "6\n"
          ],
          "name": "stdout"
        }
      ]
    },
    {
      "cell_type": "code",
      "metadata": {
        "colab": {
          "base_uri": "https://localhost:8080/"
        },
        "id": "-aQFYFWa4BuI",
        "outputId": "d2d7bea8-6d93-4e2c-ac3d-e008e317f201"
      },
      "source": [
        "print(numero + 1)\r\n",
        "\r\n",
        "numero = \"Paulo\""
      ],
      "execution_count": 8,
      "outputs": [
        {
          "output_type": "stream",
          "text": [
            "7\n"
          ],
          "name": "stdout"
        }
      ]
    },
    {
      "cell_type": "code",
      "metadata": {
        "colab": {
          "base_uri": "https://localhost:8080/"
        },
        "id": "tzMiElPl4fjp",
        "outputId": "3135818d-e51c-45fe-8380-bb9598e79c27"
      },
      "source": [
        "lista = [5, 9, 7, 6, 10, 6, 7, 8, 8, 8, 8, 8, 8, 8, 8]\r\n",
        "# lista = [0, 1, 2, 3]\r\n",
        "\r\n",
        "print(lista)\r\n",
        "\r\n",
        "print(type(lista))\r\n",
        "\r\n",
        "print(\"Primeiro elemento é o\", lista[0])\r\n",
        "\r\n",
        "print(len(lista), \"elementos no total\")\r\n",
        "\r\n",
        "print(\"Elementos únicos:\", set(lista))\r\n",
        "\r\n",
        "print(len(set(lista)), \"elementos únicos\")"
      ],
      "execution_count": 18,
      "outputs": [
        {
          "output_type": "stream",
          "text": [
            "[5, 9, 7, 6, 10, 6, 7, 8, 8, 8, 8, 8, 8, 8, 8]\n",
            "<class 'list'>\n",
            "Primeiro elemento é o 5\n",
            "15 elementos no total\n",
            "Elementos únicos: {5, 6, 7, 8, 9, 10}\n",
            "6 elementos únicos\n"
          ],
          "name": "stdout"
        }
      ]
    },
    {
      "cell_type": "code",
      "metadata": {
        "colab": {
          "base_uri": "https://localhost:8080/"
        },
        "id": "AfFks82O5MKo",
        "outputId": "c1823f44-b880-4594-9188-4b498ed350fb"
      },
      "source": [
        "# 0 -> Preto\r\n",
        "# 1 -> Branco\r\n",
        "# Qualquer valor entre 0 e 1 representa um tom de cinza\r\n",
        "\r\n",
        "linha1 = [0, 0, 0]\r\n",
        "linha2 = [0, 1, 0]\r\n",
        "linha3 = [0, 0.5, 0]\r\n",
        "\r\n",
        "imagem = [linha1, linha2, linha3]\r\n",
        "\r\n",
        "print(imagem)"
      ],
      "execution_count": 20,
      "outputs": [
        {
          "output_type": "stream",
          "text": [
            "[[0, 0, 0], [0, 1, 0], [0, 0.5, 0]]\n"
          ],
          "name": "stdout"
        }
      ]
    },
    {
      "cell_type": "code",
      "metadata": {
        "colab": {
          "base_uri": "https://localhost:8080/"
        },
        "id": "h-H5wp6H5rwM",
        "outputId": "06448680-c868-439c-de9f-bee34a818218"
      },
      "source": [
        "tupla = (5, 6, 7)\r\n",
        "\r\n",
        "print(tupla)\r\n",
        "\r\n",
        "print(type(tupla))\r\n",
        "\r\n",
        "print(tupla[0])\r\n",
        "\r\n",
        "print(len(tupla))"
      ],
      "execution_count": 21,
      "outputs": [
        {
          "output_type": "stream",
          "text": [
            "(5, 6, 7)\n",
            "<class 'tuple'>\n",
            "5\n",
            "3\n"
          ],
          "name": "stdout"
        }
      ]
    },
    {
      "cell_type": "code",
      "metadata": {
        "colab": {
          "base_uri": "https://localhost:8080/"
        },
        "id": "6t3Guid5502j",
        "outputId": "82e6c7cf-0db5-4503-9293-4af6328e8bdb"
      },
      "source": [
        "lista = [4, 9, 2]\r\n",
        "\r\n",
        "print(lista)\r\n",
        "\r\n",
        "lista[0] = 80\r\n",
        "\r\n",
        "print(lista)"
      ],
      "execution_count": 23,
      "outputs": [
        {
          "output_type": "stream",
          "text": [
            "[4, 9, 2]\n",
            "[80, 9, 2]\n"
          ],
          "name": "stdout"
        }
      ]
    },
    {
      "cell_type": "code",
      "metadata": {
        "colab": {
          "base_uri": "https://localhost:8080/"
        },
        "id": "osbMumr455Hc",
        "outputId": "db0fa0ec-d6fb-4f01-fc3a-7bb1ef799a24"
      },
      "source": [
        "tupla = 4,\r\n",
        "\r\n",
        "print(tupla)\r\n",
        "\r\n",
        "print(type(tupla))\r\n",
        "\r\n",
        "print(tupla[0])"
      ],
      "execution_count": 31,
      "outputs": [
        {
          "output_type": "stream",
          "text": [
            "(4,)\n",
            "<class 'tuple'>\n",
            "4\n"
          ],
          "name": "stdout"
        }
      ]
    },
    {
      "cell_type": "code",
      "metadata": {
        "colab": {
          "base_uri": "https://localhost:8080/"
        },
        "id": "K6YkdRoq6QAd",
        "outputId": "e454d17a-e07e-4be4-e6e4-6ffbba4f7f0a"
      },
      "source": [
        "tupla = 4, 9, 3\r\n",
        "\r\n",
        "tupla = list(tupla)\r\n",
        "\r\n",
        "tupla[0] = 99\r\n",
        "\r\n",
        "tupla = tuple(tupla)\r\n",
        "\r\n",
        "print(tupla)\r\n",
        "print(type(tupla))"
      ],
      "execution_count": 33,
      "outputs": [
        {
          "output_type": "stream",
          "text": [
            "(99, 9, 3)\n",
            "<class 'tuple'>\n"
          ],
          "name": "stdout"
        }
      ]
    },
    {
      "cell_type": "code",
      "metadata": {
        "colab": {
          "base_uri": "https://localhost:8080/"
        },
        "id": "oMxOtsHC6rJM",
        "outputId": "5f6ecb32-780e-4d06-8cc4-bfc7a879839f"
      },
      "source": [
        "tupla = \"Paulo\", \"Salvatore\"\r\n",
        "\r\n",
        "print(tupla)\r\n",
        "print(type(tupla))\r\n",
        "\r\n",
        "nome, sobrenome = tupla\r\n",
        "\r\n",
        "print(nome)\r\n",
        "print(sobrenome)"
      ],
      "execution_count": 35,
      "outputs": [
        {
          "output_type": "stream",
          "text": [
            "('Paulo', 'Salvatore')\n",
            "<class 'tuple'>\n",
            "Paulo\n",
            "Salvatore\n"
          ],
          "name": "stdout"
        }
      ]
    },
    {
      "cell_type": "code",
      "metadata": {
        "colab": {
          "base_uri": "https://localhost:8080/"
        },
        "id": "3iuvjmsE62gb",
        "outputId": "8d35845c-26d3-4aac-fe11-3e5f63fb5e92"
      },
      "source": [
        "tupla = \"Paulo\", \"Salvatore\"\r\n",
        "\r\n",
        "print(tupla)\r\n",
        "print(type(tupla))\r\n",
        "\r\n",
        "nome = tupla[0]\r\n",
        "sobrenome = tupla[1]\r\n",
        "\r\n",
        "print(nome)\r\n",
        "print(sobrenome)"
      ],
      "execution_count": 36,
      "outputs": [
        {
          "output_type": "stream",
          "text": [
            "('Paulo', 'Salvatore')\n",
            "<class 'tuple'>\n",
            "Paulo\n",
            "Salvatore\n"
          ],
          "name": "stdout"
        }
      ]
    },
    {
      "cell_type": "code",
      "metadata": {
        "colab": {
          "base_uri": "https://localhost:8080/"
        },
        "id": "WdgrnKJo662t",
        "outputId": "c9680fd8-88f6-4a94-b259-d682a037031a"
      },
      "source": [
        "lista = [\"Paulo\", \"Salvatore\"]\r\n",
        "\r\n",
        "print(lista)\r\n",
        "print(type(lista))\r\n",
        "\r\n",
        "nome, sobrenome = lista\r\n",
        "\r\n",
        "print(nome)\r\n",
        "print(sobrenome)"
      ],
      "execution_count": 38,
      "outputs": [
        {
          "output_type": "stream",
          "text": [
            "['Paulo', 'Salvatore']\n",
            "<class 'list'>\n",
            "Paulo\n",
            "Salvatore\n"
          ],
          "name": "stdout"
        }
      ]
    },
    {
      "cell_type": "code",
      "metadata": {
        "colab": {
          "base_uri": "https://localhost:8080/"
        },
        "id": "23G3X8EY7EsL",
        "outputId": "4b0c2cff-2f9d-40f2-a3c1-34a79c9cfae1"
      },
      "source": [
        "tupla = (5, 6, 7, [1, 2, 3])\r\n",
        "\r\n",
        "lista = tupla[3]\r\n",
        "\r\n",
        "print(lista)\r\n",
        "print(type(lista))\r\n",
        "\r\n",
        "lista[0] = 99\r\n",
        "\r\n",
        "print(tupla)"
      ],
      "execution_count": 39,
      "outputs": [
        {
          "output_type": "stream",
          "text": [
            "[1, 2, 3]\n",
            "<class 'list'>\n",
            "(5, 6, 7, [99, 2, 3])\n"
          ],
          "name": "stdout"
        }
      ]
    }
  ]
}